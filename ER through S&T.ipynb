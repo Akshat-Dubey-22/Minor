{
 "cells": [
  {
   "cell_type": "code",
   "execution_count": null,
   "id": "b0d7b5d8",
   "metadata": {},
   "outputs": [],
   "source": [
    "import librosa\n",
    "import nltk\n",
    "from nltk.sentiment.vader import SentimentIntensityAnalyzer\n",
    "from pyAudioAnalysis import audioTrainTest as aT\n",
    "\n",
    "# Download the VADER lexicon\n",
    "nltk.download('vader_lexicon')\n",
    "\n",
    "def extract_audio_features(audio_file):\n",
    "    # Load audio file\n",
    "    y, sr = librosa.load(audio_file)\n",
    "\n",
    "    # Extract MFCC features\n",
    "    mfccs = librosa.feature.mfcc(y=y, sr=sr)\n",
    "\n",
    "    return mfccs\n",
    "\n",
    "def analyze_text_sentiment(text):\n",
    "    sid = SentimentIntensityAnalyzer()\n",
    "    sentiment_scores = sid.polarity_scores(text)\n",
    "\n",
    "    if sentiment_scores['compound'] >= 0.05:\n",
    "        return 'Positive'\n",
    "    elif sentiment_scores['compound'] <= -0.05:\n",
    "        return 'Negative'\n",
    "    else:\n",
    "        return 'Neutral'\n",
    "\n",
    "def analyze_combined_emotion(audio_file, text):\n",
    "    # Speech emotion analysis\n",
    "    audio_features = extract_audio_features(audio_file)\n",
    "    # You would typically use a trained model for emotion prediction here\n",
    "\n",
    "    # Text sentiment analysis\n",
    "    text_sentiment = analyze_text_sentiment(text)\n",
    "\n",
    "    return audio_features, text_sentiment\n",
    "\n",
    "# Example usage\n",
    "audio_file_path = \"C:/Users/HP/Downloads/test.wav\"\n",
    "text_to_analyze = \"I'm feeling excited!\"\n",
    "\n",
    "audio_features, text_sentiment = analyze_combined_emotion(audio_file_path, text_to_analyze)\n",
    "\n",
    "print(f\"Audio Emotion: {audio_features}\")  # Replace with the actual audio emotion prediction\n",
    "print(f\"Text Sentiment: {text_sentiment}\")"
   ]
  }
 ],
 "metadata": {
  "kernelspec": {
   "display_name": "Python 3 (ipykernel)",
   "language": "python",
   "name": "python3"
  },
  "language_info": {
   "codemirror_mode": {
    "name": "ipython",
    "version": 3
   },
   "file_extension": ".py",
   "mimetype": "text/x-python",
   "name": "python",
   "nbconvert_exporter": "python",
   "pygments_lexer": "ipython3",
   "version": "3.11.5"
  }
 },
 "nbformat": 4,
 "nbformat_minor": 5
}
